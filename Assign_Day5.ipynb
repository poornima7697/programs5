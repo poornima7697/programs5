{
 "cells": [
  {
   "cell_type": "code",
   "execution_count": 1,
   "id": "0465a234",
   "metadata": {},
   "outputs": [
    {
     "name": "stdout",
     "output_type": "stream",
     "text": [
      "['php', 'c']\n"
     ]
    }
   ],
   "source": [
    "#1.\tWrite a Python program to find palindromes in a given list of strings using Lambda\n",
    "l1=[\"php\",\"c\",\"java\"]\n",
    "s=list(filter(lambda x: (x == \"\".join(reversed(x))),l1))\n",
    "print(s)"
   ]
  },
  {
   "cell_type": "code",
   "execution_count": 11,
   "id": "4b7489c7",
   "metadata": {},
   "outputs": [
    {
     "name": "stdout",
     "output_type": "stream",
     "text": [
      "positie and negative numbers  : [2, 4, -6, -9, 11, -12, 14, -5, 17]\n",
      "deleted positive number in the list : [2, 4, 11, 14, 17]\n",
      "Sum of the negavite numbers: -32\n"
     ]
    }
   ],
   "source": [
    "#2.\tWrite a Python program that removes the positive numbers from a given list of numbers. Sum the negative numbers and print the absolute value using lambda function.\n",
    "\n",
    "nums = [2, 4, -6, -9, 11, -12, 14, -5, 17]\n",
    "print(\"positie and negative numbers  :\",nums)\n",
    "y=list(filter(lambda nums:nums>0,nums))\n",
    "print(\"deleted positive number in the list :\",y)\n",
    "x= list(filter(lambda nums:nums<0,nums))\n",
    "print(\"Sum of the negavite numbers:\",sum(x))"
   ]
  },
  {
   "cell_type": "code",
   "execution_count": 9,
   "id": "6576826e",
   "metadata": {},
   "outputs": [
    {
     "name": "stdout",
     "output_type": "stream",
     "text": [
      "[('Social sciences', 82), ('English', 88), ('Science', 90), ('Maths', 97)]\n"
     ]
    }
   ],
   "source": [
    "#3.\tWrite a Python program to sort a list of tuples using Lambda.\n",
    "#subject_marks = [('English', 88), ('Science', 90), ('Maths', 97), ('Social sciences', 82)]\n",
    "#output\n",
    "#Sorting the List of Tuples:\n",
    "#[('Social sciences', 82), ('English', 88), ('Science', 90), ('Maths', 97)]\n",
    "\n",
    "subject_marks = [('English', 88), ('Science', 90), ('Maths', 97), ('Social sciences', 82)]\n",
    "subject_marks.sort(key = lambda x: x[1])\n",
    "print(subject_marks)"
   ]
  },
  {
   "cell_type": "code",
   "execution_count": 9,
   "id": "d31bc812",
   "metadata": {},
   "outputs": [
    {
     "name": "stdout",
     "output_type": "stream",
     "text": [
      "[6, 2, 5]\n",
      "Square of numbers [36, 4, 25]\n",
      "Square of numbers [216, 8, 125]\n"
     ]
    }
   ],
   "source": [
    "#4.\tWrite a Python program to square and cube every alternate number using list comprehension.\n",
    "l1=[9,6,8,2,4,5]\n",
    "res = l1[1::2]\n",
    "print(res)\n",
    "result = list(i**2 for i in res)\n",
    "print(\"Square of numbers\",result)\n",
    "result1 = list(i**3 for i in res)\n",
    "print(\"Square of numbers\",result1)\n",
    "\n"
   ]
  },
  {
   "cell_type": "code",
   "execution_count": 22,
   "id": "411b7787",
   "metadata": {},
   "outputs": [
    {
     "name": "stdout",
     "output_type": "stream",
     "text": [
      "[1, 3, 5, 7, 9]\n"
     ]
    }
   ],
   "source": [
    "#5.\tWrite a program to find all prime number from given list using filter function .\n",
    "list1 = [1, 2, 3, 4, 5, 6, 7, 8, 9 ,10]\n",
    "print(list(filter(lambda x:x%2==1, list1)))"
   ]
  },
  {
   "cell_type": "code",
   "execution_count": 5,
   "id": "9e028abe",
   "metadata": {},
   "outputs": [],
   "source": [
    "#6.\t Write a Python logic  to multiply all the numbers in a list ( use reduce function)\n",
    "from functools import reduce"
   ]
  },
  {
   "cell_type": "code",
   "execution_count": 6,
   "id": "a6b70e5c",
   "metadata": {},
   "outputs": [
    {
     "name": "stdout",
     "output_type": "stream",
     "text": [
      "24\n"
     ]
    }
   ],
   "source": [
    "list1 = [2,4,3,1]\n",
    "result1 = reduce((lambda x, y: x * y), list1)\n",
    "print(result1)"
   ]
  },
  {
   "cell_type": "code",
   "execution_count": 24,
   "id": "3c2e1bd7",
   "metadata": {},
   "outputs": [],
   "source": [
    "#7.\tWAP using dict comphrension to create dict from list of voters\n",
    "#lst=[{‘pan_id’:’ABPPS4344P’,vote_casted:’BJP’},\n",
    " #      {pan_id’:’ABPPS4342P’, vote_casted:’Congress’},\n",
    " #      { pan_id’:’ABPPS4378p’, vote_casted:’BJP’}]\n",
    "\n",
    "#Output\n",
    "#{‘BJP’:2, ‘Congress’:1}\n",
    "\n",
    "from functools import reduce "
   ]
  },
  {
   "cell_type": "code",
   "execution_count": 4,
   "id": "289ff995",
   "metadata": {},
   "outputs": [
    {
     "name": "stdout",
     "output_type": "stream",
     "text": [
      "['BJP', 'Congress', 'BJP']\n",
      "{'BJP': 2, 'Congress': 1}\n"
     ]
    }
   ],
   "source": [
    "lst=[{'pan_id':'ABPPS4344P','vote_casted':'BJP'},\n",
    "     {'pan_id':'ABPPS4342P','vote_casted':'Congress'},\n",
    "     {'pan_id':'ABPPS4378p', 'vote_casted':'BJP'}]\n",
    "l2nd=list(do['vote_casted']for do in lst)\n",
    "print(l2nd)\n",
    "d1={k:list(do['vote_casted']for do in lst).count(k) for k in list(do['vote_casted']for do in lst)}\n",
    "print(d1)\n"
   ]
  },
  {
   "cell_type": "code",
   "execution_count": 10,
   "id": "93e6d041",
   "metadata": {},
   "outputs": [],
   "source": [
    "#8.\tWrite a program to find all  armstrong number from given list using filter function .\n",
    "def arm(a):\n",
    "    sum=0\n",
    "    temp=a\n",
    "    while temp>0:\n",
    "        d=temp%10\n",
    "        sum+=d**3\n",
    "        temp//=10\n",
    "    if(a==sum):\n",
    "        print(sum)\n",
    "    else:\n",
    "        pass\n",
    "\n",
    "\n"
   ]
  },
  {
   "cell_type": "code",
   "execution_count": 23,
   "id": "623d5007",
   "metadata": {},
   "outputs": [
    {
     "name": "stdout",
     "output_type": "stream",
     "text": [
      "370\n",
      "153\n",
      "[]\n"
     ]
    }
   ],
   "source": [
    "list1=[111,656,370,225,166,153]\n",
    "list2=list(filter(arm,list1))\n",
    "print(list2)"
   ]
  },
  {
   "cell_type": "code",
   "execution_count": null,
   "id": "fd224dd4",
   "metadata": {},
   "outputs": [],
   "source": []
  }
 ],
 "metadata": {
  "kernelspec": {
   "display_name": "Python 3 (ipykernel)",
   "language": "python",
   "name": "python3"
  },
  "language_info": {
   "codemirror_mode": {
    "name": "ipython",
    "version": 3
   },
   "file_extension": ".py",
   "mimetype": "text/x-python",
   "name": "python",
   "nbconvert_exporter": "python",
   "pygments_lexer": "ipython3",
   "version": "3.9.7"
  }
 },
 "nbformat": 4,
 "nbformat_minor": 5
}
