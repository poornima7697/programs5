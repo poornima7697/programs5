{
 "cells": [
  {
   "cell_type": "code",
   "execution_count": 20,
   "id": "0127bb41",
   "metadata": {},
   "outputs": [],
   "source": [
    "#que 1:\n",
    "r=lambda msg:msg"
   ]
  },
  {
   "cell_type": "code",
   "execution_count": 21,
   "id": "1a470f4a",
   "metadata": {},
   "outputs": [
    {
     "name": "stdout",
     "output_type": "stream",
     "text": [
      "hello\n"
     ]
    }
   ],
   "source": [
    "print(r(\"hello\"))"
   ]
  },
  {
   "cell_type": "code",
   "execution_count": 22,
   "id": "631b888a",
   "metadata": {},
   "outputs": [],
   "source": [
    "#que 2:\n",
    "r=lambda s:s%2==0"
   ]
  },
  {
   "cell_type": "code",
   "execution_count": 25,
   "id": "46039750",
   "metadata": {},
   "outputs": [
    {
     "name": "stdout",
     "output_type": "stream",
     "text": [
      "False\n",
      "True\n"
     ]
    }
   ],
   "source": [
    "s=r(9)\n",
    "s1=r(2)\n",
    "print(s)\n",
    "print(s1)"
   ]
  },
  {
   "cell_type": "code",
   "execution_count": 1,
   "id": "78595480",
   "metadata": {},
   "outputs": [
    {
     "name": "stdout",
     "output_type": "stream",
     "text": [
      "<class 'list'>\n",
      "[7]\n"
     ]
    }
   ],
   "source": [
    "l1=[4,7,8,1]\n",
    "r=list(filter(lambda s:s%7==0,l1))\n",
    "print(type(r))\n",
    "print(r)"
   ]
  },
  {
   "cell_type": "code",
   "execution_count": 20,
   "id": "1fd16fc3",
   "metadata": {},
   "outputs": [
    {
     "name": "stdout",
     "output_type": "stream",
     "text": [
      "[6, 9, 10, 3]\n"
     ]
    }
   ],
   "source": [
    "l2=[4,7,8,1]\n",
    "print(list(map(lambda x:x+2,l2)))"
   ]
  },
  {
   "cell_type": "code",
   "execution_count": 6,
   "id": "8483d3db",
   "metadata": {},
   "outputs": [
    {
     "name": "stdout",
     "output_type": "stream",
     "text": [
      "['a', 'ab', 'iop']\n"
     ]
    }
   ],
   "source": [
    "#Find all of the words in a string that are less than 4 letters\n",
    "sentence =[\"a\",\"ab\",\"iopuy\",\"iop\"]\n",
    "\n",
    "#examine = sentence.split()\n",
    "result=list(filter(lambda word: len(word)<=4,sentence))\n",
    "print(result)"
   ]
  },
  {
   "cell_type": "code",
   "execution_count": 21,
   "id": "7808aa6f",
   "metadata": {},
   "outputs": [
    {
     "name": "stdout",
     "output_type": "stream",
     "text": [
      "[3, 3, 3, 3]\n"
     ]
    }
   ],
   "source": [
    "l2=[\"asd\",\"tyu\",\"ert\",\"hhg\"]\n",
    "print(list(map(lambda x:len(x),l2)))"
   ]
  },
  {
   "cell_type": "code",
   "execution_count": 23,
   "id": "ba5bebf7",
   "metadata": {},
   "outputs": [
    {
     "name": "stdout",
     "output_type": "stream",
     "text": [
      "['ASD', 'TYU', 'ERT', 'HHG']\n"
     ]
    }
   ],
   "source": [
    "l2=[\"asd\",\"tyu\",\"ert\",\"hhg\"]\n",
    "print(list(map(lambda x:x.upper(),l2)))"
   ]
  },
  {
   "cell_type": "code",
   "execution_count": 10,
   "id": "1c0cb0c8",
   "metadata": {},
   "outputs": [
    {
     "name": "stdout",
     "output_type": "stream",
     "text": [
      "[' b njk nkjh']\n"
     ]
    }
   ],
   "source": [
    "l2=[\" b njk nkjh\"]\n",
    "r=list(filter(lambda s:s.count(\" \"),l2))\n",
    "print(r)\n"
   ]
  },
  {
   "cell_type": "code",
   "execution_count": 9,
   "id": "2ab9efb2",
   "metadata": {},
   "outputs": [
    {
     "name": "stdout",
     "output_type": "stream",
     "text": [
      "['Tyu', 'Hhg']\n"
     ]
    }
   ],
   "source": [
    "l2=[\"asd\",\"Tyu\",\"ert\",\"Hhg\"]\n",
    "l2=print(list(filter(lambda x:x[0:1].isupper(),l2)))\n",
    "#l2=print(list(map(lambda x:len(x),l2)))\n"
   ]
  },
  {
   "cell_type": "code",
   "execution_count": 1,
   "id": "d097d20f",
   "metadata": {},
   "outputs": [],
   "source": [
    "from functools import reduce"
   ]
  },
  {
   "cell_type": "markdown",
   "id": "9b84ea25",
   "metadata": {},
   "source": [
    "l2=[3,3,8,1]\n",
    "total=reduce(lambda x,y: x+y,list(map(lambda x: x**2,l2)))\n",
    "print(total)"
   ]
  },
  {
   "cell_type": "code",
   "execution_count": 46,
   "id": "744bd051",
   "metadata": {},
   "outputs": [],
   "source": [
    "import operator as o\n"
   ]
  },
  {
   "cell_type": "code",
   "execution_count": 51,
   "id": "3df8742f",
   "metadata": {},
   "outputs": [
    {
     "name": "stdout",
     "output_type": "stream",
     "text": [
      "[3, 3, 3, 3]\n"
     ]
    }
   ],
   "source": [
    "l2=[\"asd\",\"Tyu\",\"ert\",\"Hhg\"]\n",
    "nlist=list(len(i) for i in l2)\n",
    "print(nlist)"
   ]
  },
  {
   "cell_type": "code",
   "execution_count": 59,
   "id": "cce6b8cc",
   "metadata": {},
   "outputs": [
    {
     "name": "stdout",
     "output_type": "stream",
     "text": [
      "[0, 5, 10, 15, 20, 25, 30, 35, 40, 45, 50]\n"
     ]
    }
   ],
   "source": [
    "nlist=list(i for i in range(0,51)if i%5==0 )\n",
    "print(nlist)"
   ]
  },
  {
   "cell_type": "markdown",
   "id": "daecd9dc",
   "metadata": {},
   "source": [
    "#lambda Expression\n"
   ]
  },
  {
   "cell_type": "code",
   "execution_count": 2,
   "id": "28109507",
   "metadata": {},
   "outputs": [],
   "source": [
    "#normal function\n",
    "def add(x,y):\n",
    "    return x+y"
   ]
  },
  {
   "cell_type": "code",
   "execution_count": 3,
   "id": "6bcc20e9",
   "metadata": {},
   "outputs": [
    {
     "data": {
      "text/plain": [
       "11"
      ]
     },
     "execution_count": 3,
     "metadata": {},
     "output_type": "execute_result"
    }
   ],
   "source": [
    "add(5,6)"
   ]
  },
  {
   "cell_type": "code",
   "execution_count": 11,
   "id": "9be60b83",
   "metadata": {},
   "outputs": [],
   "source": [
    "re=lambda x,y:x+y"
   ]
  },
  {
   "cell_type": "code",
   "execution_count": 15,
   "id": "90ae6c65",
   "metadata": {},
   "outputs": [
    {
     "name": "stdout",
     "output_type": "stream",
     "text": [
      "Addition is: 11\n",
      "full name: ravikumar\n",
      "Tota is: 127.0\n",
      "<class 'function'>\n"
     ]
    }
   ],
   "source": [
    "print(\"Addition is:\",re(5,6))\n",
    "print(\"full name:\",re(\"ravi\",\"kumar\"))\n",
    "print(\"Tota is:\",re(58.00,69.0))\n",
    "print(type(re))"
   ]
  },
  {
   "cell_type": "code",
   "execution_count": 35,
   "id": "dd5d4f04",
   "metadata": {},
   "outputs": [
    {
     "name": "stdout",
     "output_type": "stream",
     "text": [
      "9\n"
     ]
    }
   ],
   "source": [
    "def add(n):\n",
    "    return lambda n1:n1+n\n",
    "re=add(5)\n",
    "print(re(4))\n"
   ]
  },
  {
   "cell_type": "code",
   "execution_count": 41,
   "id": "a85c8250",
   "metadata": {},
   "outputs": [
    {
     "name": "stdout",
     "output_type": "stream",
     "text": [
      "36\n"
     ]
    }
   ],
   "source": [
    "6^2\n",
    "r=lambda x,y:x**y\n",
    "print(r(6,2))"
   ]
  },
  {
   "cell_type": "raw",
   "id": "117ac7d8",
   "metadata": {},
   "source": []
  },
  {
   "cell_type": "code",
   "execution_count": 46,
   "id": "f7d88cdb",
   "metadata": {},
   "outputs": [],
   "source": [
    "def findpow(b):\n",
    "    return lambda e:b**e"
   ]
  },
  {
   "cell_type": "code",
   "execution_count": 48,
   "id": "0fd802d6",
   "metadata": {},
   "outputs": [
    {
     "name": "stdout",
     "output_type": "stream",
     "text": [
      "36\n"
     ]
    }
   ],
   "source": [
    "ans=findpow(6)\n",
    "print(ans(2))"
   ]
  },
  {
   "cell_type": "markdown",
   "id": "3085a68c",
   "metadata": {},
   "source": [
    "\n",
    "List Comprehension Practice Program"
   ]
  },
  {
   "cell_type": "code",
   "execution_count": 33,
   "id": "c7b5ce93",
   "metadata": {},
   "outputs": [
    {
     "name": "stdout",
     "output_type": "stream",
     "text": [
      "[7, 14, 21, 28, 35, 42, 49, 56, 63, 70, 77, 84, 91, 98, 105, 112, 119, 126, 133, 140, 147, 154, 161, 168, 175, 182, 189, 196, 203, 210, 217, 224, 231, 238, 245, 252, 259, 266, 273, 280, 287, 294, 301, 308, 315, 322, 329, 336, 343, 350, 357, 364, 371, 378, 385, 392, 399, 406, 413, 420, 427, 434, 441, 448, 455, 462, 469, 476, 483, 490, 497, 504, 511, 518, 525, 532, 539, 546, 553, 560, 567, 574, 581, 588, 595, 602, 609, 616, 623, 630, 637, 644, 651, 658, 665, 672, 679, 686, 693, 700, 707, 714, 721, 728, 735, 742, 749, 756, 763, 770, 777, 784, 791, 798, 805, 812, 819, 826, 833, 840, 847, 854, 861, 868, 875, 882, 889, 896, 903, 910, 917, 924, 931, 938, 945, 952, 959, 966, 973, 980, 987, 994]\n"
     ]
    }
   ],
   "source": [
    "#1.\tFind all of the numbers from 1-1000 that are divisible by 7\n",
    "l1 = [n for n in range(1,1000) if n % 7 == 0] \n",
    "print(l1)"
   ]
  },
  {
   "cell_type": "code",
   "execution_count": 32,
   "id": "d96b5e0b",
   "metadata": {},
   "outputs": [
    {
     "name": "stdout",
     "output_type": "stream",
     "text": [
      "[3, 13, 23, 30, 31, 32, 33, 34, 35, 36, 37, 38, 39, 43, 53, 63, 73, 83, 93, 103, 113, 123, 130, 131, 132, 133, 134, 135, 136, 137, 138, 139, 143, 153, 163, 173, 183, 193, 203, 213, 223, 230, 231, 232, 233, 234, 235, 236, 237, 238, 239, 243, 253, 263, 273, 283, 293, 300, 301, 302, 303, 304, 305, 306, 307, 308, 309, 310, 311, 312, 313, 314, 315, 316, 317, 318, 319, 320, 321, 322, 323, 324, 325, 326, 327, 328, 329, 330, 331, 332, 333, 334, 335, 336, 337, 338, 339, 340, 341, 342, 343, 344, 345, 346, 347, 348, 349, 350, 351, 352, 353, 354, 355, 356, 357, 358, 359, 360, 361, 362, 363, 364, 365, 366, 367, 368, 369, 370, 371, 372, 373, 374, 375, 376, 377, 378, 379, 380, 381, 382, 383, 384, 385, 386, 387, 388, 389, 390, 391, 392, 393, 394, 395, 396, 397, 398, 399, 403, 413, 423, 430, 431, 432, 433, 434, 435, 436, 437, 438, 439, 443, 453, 463, 473, 483, 493, 503, 513, 523, 530, 531, 532, 533, 534, 535, 536, 537, 538, 539, 543, 553, 563, 573, 583, 593, 603, 613, 623, 630, 631, 632, 633, 634, 635, 636, 637, 638, 639, 643, 653, 663, 673, 683, 693, 703, 713, 723, 730, 731, 732, 733, 734, 735, 736, 737, 738, 739, 743, 753, 763, 773, 783, 793, 803, 813, 823, 830, 831, 832, 833, 834, 835, 836, 837, 838, 839, 843, 853, 863, 873, 883, 893, 903, 913, 923, 930, 931, 932, 933, 934, 935, 936, 937, 938, 939, 943, 953, 963, 973, 983, 993]\n"
     ]
    }
   ],
   "source": [
    "#2.\tFind all of the numbers from 1-1000 that have a 3 in them\n",
    "l1= [n for n in range(0,1000) if '3' in str(n)]\n",
    "print(l1)"
   ]
  },
  {
   "cell_type": "code",
   "execution_count": 31,
   "id": "d0eea290",
   "metadata": {},
   "outputs": [
    {
     "name": "stdout",
     "output_type": "stream",
     "text": [
      "3\n"
     ]
    }
   ],
   "source": [
    "#3.\tCount the number of spaces in a string\n",
    "s='hello how are you'\n",
    "s1=[x for x in s if x == ' ']\n",
    "print(len(s1))"
   ]
  },
  {
   "cell_type": "code",
   "execution_count": 6,
   "id": "344e95b0",
   "metadata": {},
   "outputs": [
    {
     "name": "stdout",
     "output_type": "stream",
     "text": [
      "['Y', 'l', 'l', 'w', 'Y', 'k', 's', 'l', 'k', 'y', 'l', 'l', 'n', 'g', 'n', 'd', 'y', 'w', 'n', 'n', 'g', 'n', 'd', 'y', 's', 't', 'r', 'd', 'y', 't', 'h', 'y', 'y', 'd', 'l', 'd', 'w', 'h', 'l', 't', 'n', 'g', 'y', 'k', 'y', 'y', 'm', 's']\n"
     ]
    }
   ],
   "source": [
    "#4.\tCreate a list of all the consonants in the string “Yellow Yaks like yelling and yawning and yesturday they yodled while eating yuky yams”\n",
    "sentence = \"Yellow Yaks like yelling and yawning and yesturday they yodled while eating yuky yams\"\n",
    "result = [letter for letter in sentence if letter not in 'a,e,i,o,u, \" \"']\n",
    "print(result)"
   ]
  },
  {
   "cell_type": "code",
   "execution_count": 8,
   "id": "7dda2861",
   "metadata": {},
   "outputs": [
    {
     "name": "stdout",
     "output_type": "stream",
     "text": [
      "[(0, 'hi'), (1, 4), (2, 8.99), (3, 'apple'), (4, ('t,b', 'n'))]\n"
     ]
    }
   ],
   "source": [
    "#5.\tGet the index and the value as a tuple for items in the list “hi”, 4, 8.99, ‘apple’, (‘t,b’,’n’). Result would look like (index, value), (index, value)\n",
    "items = [\"hi\", 4, 8.99, 'apple', ('t,b','n')]\n",
    "result = [(index, item) for index, item in enumerate(items)]\n",
    "print(result)"
   ]
  },
  {
   "cell_type": "code",
   "execution_count": 12,
   "id": "2a15e22d",
   "metadata": {},
   "outputs": [
    {
     "name": "stdout",
     "output_type": "stream",
     "text": [
      "[2, 3, 4]\n"
     ]
    }
   ],
   "source": [
    "#6.\tFind the common numbers in two lists (without using a tuple or set) list_a = 1, 2, 3, 4, list_b = 2, 3, 4, 5\n",
    "list_a = [1, 2, 3, 4]\n",
    "list_b = [2, 3, 4, 5]\n",
    "result = [x for x in list_a if x in list_b]\n",
    "print(result)"
   ]
  },
  {
   "cell_type": "code",
   "execution_count": 21,
   "id": "fe278404",
   "metadata": {},
   "outputs": [
    {
     "name": "stdout",
     "output_type": "stream",
     "text": [
      "['1984', '13', '1000']\n"
     ]
    }
   ],
   "source": [
    "#7.\tGet only the numbers in a sentence like ‘In 1984 there were 13 instances of a protest with over 1000 people attending’\n",
    "s=\"In 1984 there were 13 instances of a protest with over 1000 people attending\"\n",
    "w = s.split()\n",
    "l1=[number for number in w if not number.isalpha() ]\n",
    "print(l1)\n"
   ]
  },
  {
   "cell_type": "code",
   "execution_count": 22,
   "id": "8b9c1533",
   "metadata": {},
   "outputs": [
    {
     "name": "stdout",
     "output_type": "stream",
     "text": [
      "['even', 'odd', 'even', 'odd', 'even', 'odd', 'even', 'odd', 'even', 'odd', 'even', 'odd', 'even', 'odd', 'even', 'odd', 'even', 'odd', 'even', 'odd']\n"
     ]
    }
   ],
   "source": [
    "#8.\tGiven numbers = range(20), produce a list containing the word ‘even’ if a number in the numbers is even, and the word ‘odd’ if the number is odd. Result would look like ‘odd’,’odd’, ‘even’\n",
    "result = ['even' if n%2 == 0 else 'odd' for n in range(20)]\n",
    "print(result)"
   ]
  },
  {
   "cell_type": "code",
   "execution_count": 26,
   "id": "bda8ffbb",
   "metadata": {},
   "outputs": [
    {
     "name": "stdout",
     "output_type": "stream",
     "text": [
      "[(1, 1), (2, 2), (7, 7)]\n"
     ]
    }
   ],
   "source": [
    "#9.\tProduce a list of tuples consisting of only the matching numbers in these lists list_a = 1, 2, 3,4,5,6,7,8,9, list_b = 2, 7, 1, 12. Result would look like (4,4), (12,12)\n",
    "list_a = [1, 2, 3,4,5,6,7,8,9]\n",
    "list_b = [2, 7, 1, 12]\n",
    "result=[(x,y) for x in list_a for y in list_b if x==y]\n",
    "print(result)"
   ]
  },
  {
   "cell_type": "code",
   "execution_count": 28,
   "id": "efdf045e",
   "metadata": {},
   "outputs": [
    {
     "name": "stdout",
     "output_type": "stream",
     "text": [
      "['love', 'python', 'programming', 'language']\n"
     ]
    }
   ],
   "source": [
    "#10.\tFind all of the words in a string that are less than 4 letters\n",
    "s='I love python programming language'\n",
    "\n",
    "x=s.split()\n",
    "\n",
    "result = [word for word in x if len(word)>=4]\n",
    "print(result)"
   ]
  },
  {
   "cell_type": "code",
   "execution_count": 29,
   "id": "0e39dfa1",
   "metadata": {},
   "outputs": [
    {
     "name": "stdout",
     "output_type": "stream",
     "text": [
      "[2, 3, 4, 5, 6, 7, 8, 9, 10, 12, 14, 15, 16, 18, 20, 21, 22, 24, 25, 26, 27, 28, 30, 32, 33, 34, 35, 36, 38, 39, 40, 42, 44, 45, 46, 48, 49, 50, 51, 52, 54, 55, 56, 57, 58, 60, 62, 63, 64, 65, 66, 68, 69, 70, 72, 74, 75, 76, 77, 78, 80, 81, 82, 84, 85, 86, 87, 88, 90, 91, 92, 93, 94, 95, 96, 98, 99]\n"
     ]
    }
   ],
   "source": [
    "#11.\tUse a nested list comprehension to find all of the numbers from 1-1000 that are divisible by any single digit besides 1 (2-9)\n",
    "result = [number for number in range(1,100) if True in [True for x in range(2,10) if number % x == 0]]\n",
    "print(result)"
   ]
  },
  {
   "cell_type": "code",
   "execution_count": null,
   "id": "1df8b278",
   "metadata": {},
   "outputs": [],
   "source": []
  }
 ],
 "metadata": {
  "kernelspec": {
   "display_name": "Python 3 (ipykernel)",
   "language": "python",
   "name": "python3"
  },
  "language_info": {
   "codemirror_mode": {
    "name": "ipython",
    "version": 3
   },
   "file_extension": ".py",
   "mimetype": "text/x-python",
   "name": "python",
   "nbconvert_exporter": "python",
   "pygments_lexer": "ipython3",
   "version": "3.9.7"
  }
 },
 "nbformat": 4,
 "nbformat_minor": 5
}
